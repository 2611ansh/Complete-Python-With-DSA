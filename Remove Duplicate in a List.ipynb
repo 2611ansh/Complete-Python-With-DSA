{
 "cells": [
  {
   "cell_type": "markdown",
   "metadata": {},
   "source": [
    "**Problem: Remove Duplicates from a List**\n",
    "\n",
    "Write a function `remove_duplicates` that takes in a list of integers and removes duplicate elements, preserving the order of the remaining elements. The function should return a new list with duplicates removed.\n",
    "\n",
    "**Example:**\n",
    "\n",
    "Input:\n",
    "```\n",
    "[1, 2, 3, 2, 4, 1, 5]\n",
    "```\n",
    "\n",
    "Output:\n",
    "```\n",
    "[1, 2, 3, 4, 5]\n",
    "```\n",
    "\n",
    "Input:\n",
    "```\n",
    "[5, 5, 5, 5, 5]\n",
    "```\n",
    "\n",
    "Output:\n",
    "```\n",
    "[5]\n",
    "```\n",
    "\n",
    "**Constraints:**\n",
    "- The input list may contain duplicates.\n",
    "- The order of elements should be preserved in the output.\n",
    "- The function should handle lists of integers."
   ]
  },
  {
   "cell_type": "code",
   "execution_count": 1,
   "metadata": {},
   "outputs": [
    {
     "name": "stdout",
     "output_type": "stream",
     "text": [
      "[1, 2, 3, 4, 5]\n"
     ]
    }
   ],
   "source": [
    "def remove_duplicates(lst: list) -> list:\n",
    "    unique = []\n",
    "    for i in lst:\n",
    "        if i in unique:\n",
    "            pass\n",
    "        else:\n",
    "            unique.append(i)\n",
    "    return unique\n",
    "    \n",
    "def main():\n",
    "    lst = [1, 2, 3, 4, 5, 4, 3, 2, 1]\n",
    "    print(remove_duplicates(lst))\n",
    "    \n",
    "if __name__ == \"__main__\":\n",
    "    main()"
   ]
  },
  {
   "cell_type": "code",
   "execution_count": 2,
   "metadata": {},
   "outputs": [
    {
     "name": "stdout",
     "output_type": "stream",
     "text": [
      "[1, 2, 3, 4, 5]\n"
     ]
    }
   ],
   "source": [
    "def remove_duplicates(lst: list) -> list:\n",
    "    return list(set(lst))\n",
    "\n",
    "def main():\n",
    "    lst = [1, 2, 3, 4, 5, 4, 3, 2, 1]\n",
    "    print(remove_duplicates(lst))\n",
    "\n",
    "if __name__ == \"__main__\":\n",
    "    main()"
   ]
  }
 ],
 "metadata": {
  "language_info": {
   "name": "python"
  }
 },
 "nbformat": 4,
 "nbformat_minor": 2
}
