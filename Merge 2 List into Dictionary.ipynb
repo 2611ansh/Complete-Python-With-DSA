{
 "cells": [
  {
   "cell_type": "markdown",
   "metadata": {},
   "source": [
    "Certainly! Here's the coding question to merge two lists into a dictionary:\n",
    "\n",
    "---\n",
    "\n",
    "## Merge 2 Lists into Dictionary\n",
    "\n",
    "Write a function `merge_lists_into_dict(keys, values)` that merges two lists `keys` and `values` into a dictionary. Each element in the `keys` list will act as a key, and the corresponding element in the `values` list will act as the value in the resulting dictionary.\n",
    "\n",
    "### Function Signature:\n",
    "```python\n",
    "def merge_lists_into_dict(keys, values):\n",
    "    # Your code here\n",
    "```\n",
    "\n",
    "### Input:\n",
    "- `keys`: A list of keys.\n",
    "- `values`: A list of values.\n",
    "\n",
    "### Output:\n",
    "- Return a dictionary where each element in `keys` is a key, and the corresponding element in `values` is the value.\n",
    "\n",
    "### Example:\n",
    "```python\n",
    ">>> merge_lists_into_dict(['a', 'b', 'c'], [1, 2, 3])\n",
    "{'a': 1, 'b': 2, 'c': 3}\n",
    "\n",
    ">>> merge_lists_into_dict(['name', 'age'], ['Alice', 30])\n",
    "{'name': 'Alice', 'age': 30}\n",
    "\n",
    ">>> merge_lists_into_dict([], [])\n",
    "{}\n",
    "```\n",
    "\n",
    "### Notes:\n",
    "- Assume the lengths of `keys` and `values` are equal.\n",
    "- If either `keys` or `values` is empty, return an empty dictionary `{}`.\n",
    "\n",
    "---\n",
    "\n",
    "This question tests basic dictionary manipulation and ensures that the function correctly handles different input scenarios, such as empty lists and lists of different types."
   ]
  },
  {
   "cell_type": "code",
   "execution_count": 2,
   "metadata": {},
   "outputs": [
    {
     "name": "stdout",
     "output_type": "stream",
     "text": [
      "{'a': 4, 'b': 5, 'c': 6}\n"
     ]
    }
   ],
   "source": [
    "def merge_list_to_dict(key: list, value: list) -> dict:\n",
    "    dictionary = {}\n",
    "    for i, v in enumerate(key):\n",
    "        dictionary[v] = value[i]\n",
    "    return dictionary\n",
    "\n",
    "def main():\n",
    "    key = [\"a\",\"b\",\"c\"]\n",
    "    value = [4,5,6]\n",
    "    print(merge_list_to_dict(key, value))\n",
    "\n",
    "if __name__ == \"__main__\":\n",
    "    main()"
   ]
  },
  {
   "cell_type": "code",
   "execution_count": 3,
   "metadata": {},
   "outputs": [
    {
     "name": "stdout",
     "output_type": "stream",
     "text": [
      "{'a': 4, 'b': 5, 'c': 6}\n"
     ]
    }
   ],
   "source": [
    "def merge_list_to_dict(key: list, value: list) -> dict:\n",
    "    return dict(zip(key, value))\n",
    "\n",
    "def main():\n",
    "    key = [\"a\",\"b\",\"c\"]\n",
    "    value = [4,5,6]\n",
    "    print(merge_list_to_dict(key, value))\n",
    "\n",
    "if __name__ == \"__main__\":\n",
    "    main()"
   ]
  },
  {
   "cell_type": "code",
   "execution_count": null,
   "metadata": {},
   "outputs": [],
   "source": []
  }
 ],
 "metadata": {
  "language_info": {
   "name": "python"
  }
 },
 "nbformat": 4,
 "nbformat_minor": 2
}
