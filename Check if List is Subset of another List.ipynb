{
 "cells": [
  {
   "cell_type": "markdown",
   "metadata": {},
   "source": [
    "**Problem: Check if List is Subset of Another List**\n",
    "\n",
    "Write a function `is_subset` that takes two lists of integers as input and returns `True` if the first list is a subset of the second list, and `False` otherwise. A list is considered a subset if all elements from the first list are present in the second list, regardless of order.\n",
    "\n",
    "**Example:**\n",
    "\n",
    "Input:\n",
    "```\n",
    "list1 = [1, 2, 3]\n",
    "list2 = [1, 2, 3, 4, 5]\n",
    "```\n",
    "\n",
    "Output:\n",
    "```\n",
    "True\n",
    "```\n",
    "Explanation: All elements of `list1` ([1, 2, 3]) are present in `list2` ([1, 2, 3, 4, 5]).\n",
    "\n",
    "Input:\n",
    "```\n",
    "list1 = [5, 6, 7]\n",
    "list2 = [1, 2, 3, 4, 5]\n",
    "```\n",
    "\n",
    "Output:\n",
    "```\n",
    "False\n",
    "```\n",
    "Explanation: Not all elements of `list1` ([5, 6, 7]) are present in `list2` ([1, 2, 3, 4, 5]).\n",
    "\n",
    "**Constraints:**\n",
    "- The function should handle lists of integers of any length.\n",
    "- Lists may be empty.\n",
    "- Duplicate elements in either list should be considered appropriately.\n",
    "\n",
    "---\n",
    "\n",
    "Implement the `is_subset` function in your preferred programming language to solve this problem. Let me know if you need any further assistance!"
   ]
  },
  {
   "cell_type": "code",
   "execution_count": 1,
   "metadata": {},
   "outputs": [
    {
     "name": "stdout",
     "output_type": "stream",
     "text": [
      "False\n"
     ]
    }
   ],
   "source": [
    "def is_subset(lst1: list, lst2: list) -> bool:\n",
    "    subset = list(set(lst1) & set(lst2))\n",
    "    if subset == lst1:\n",
    "        return True\n",
    "    return False\n",
    "    \n",
    "def main():\n",
    "    lst1 = [1,2,3,6]\n",
    "    lst2 = [1,2,3,4,5]\n",
    "    print(is_subset(lst1, lst2))\n",
    "    \n",
    "if __name__ == \"__main__\":\n",
    "    main()"
   ]
  },
  {
   "cell_type": "code",
   "execution_count": 3,
   "metadata": {},
   "outputs": [
    {
     "name": "stdout",
     "output_type": "stream",
     "text": [
      "True\n"
     ]
    }
   ],
   "source": [
    "def is_subset(lst1: list, lst2: list) -> bool:\n",
    "    for i in lst1:\n",
    "        if i not in lst2:\n",
    "            return False\n",
    "    return True\n",
    "\n",
    "def main():\n",
    "    lst1 = [1,2,3]\n",
    "    lst2 = [1,2,3,4,5]\n",
    "    print(is_subset(lst1, lst2))\n",
    "    \n",
    "if __name__ == \"__main__\":\n",
    "    main()"
   ]
  },
  {
   "cell_type": "code",
   "execution_count": null,
   "metadata": {},
   "outputs": [],
   "source": []
  }
 ],
 "metadata": {
  "language_info": {
   "name": "python"
  }
 },
 "nbformat": 4,
 "nbformat_minor": 2
}
