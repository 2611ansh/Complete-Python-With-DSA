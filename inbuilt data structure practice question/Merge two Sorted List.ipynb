{
 "cells": [
  {
   "cell_type": "markdown",
   "metadata": {},
   "source": [
    "**Problem: Merge Two Sorted Lists**\n",
    "\n",
    "Write a function `merge_sorted_lists` that takes two sorted lists of integers as input and returns a new list that is the merged (also sorted) list of the two input lists.\n",
    "\n",
    "**Example:**\n",
    "\n",
    "Input:\n",
    "```\n",
    "list1 = [1, 3, 5]\n",
    "list2 = [2, 4, 6]\n",
    "```\n",
    "\n",
    "Output:\n",
    "```\n",
    "[1, 2, 3, 4, 5, 6]\n",
    "```\n",
    "\n",
    "Input:\n",
    "```\n",
    "list1 = [1, 2, 4]\n",
    "list2 = [3, 5, 6]\n",
    "```\n",
    "\n",
    "Output:\n",
    "```\n",
    "[1, 2, 3, 4, 5, 6]\n",
    "```\n",
    "\n",
    "**Constraints:**\n",
    "- The input lists are already sorted in non-decreasing order.\n",
    "- The function should return a new list that is sorted in non-decreasing order.\n",
    "- Lists may be of different lengths.\n",
    "\n",
    "---\n",
    "\n",
    "Implement the `merge_sorted_lists` function in your preferred programming language to solve this problem. Let me know if you need any further assistance!"
   ]
  },
  {
   "cell_type": "code",
   "execution_count": 2,
   "metadata": {},
   "outputs": [
    {
     "name": "stdout",
     "output_type": "stream",
     "text": [
      "[1, 2, 3, 4, 5, 6]\n"
     ]
    }
   ],
   "source": [
    "def merge_sorted_list(lst1: list, lst2: list) -> list:\n",
    "    lst = lst1 + lst2\n",
    "    return sorted(lst)\n",
    "\n",
    "def main():\n",
    "    lst1 = [1, 2, 4]\n",
    "    lst2 = [3, 5, 6]\n",
    "    print(merge_sorted_list(lst1, lst2))\n",
    "    \n",
    "if __name__ == \"__main__\":\n",
    "    main()"
   ]
  },
  {
   "cell_type": "code",
   "execution_count": 3,
   "metadata": {},
   "outputs": [
    {
     "name": "stdout",
     "output_type": "stream",
     "text": [
      "[1, 2, 3, 4, 5, 6]\n"
     ]
    }
   ],
   "source": [
    "def merge_sorted_list(lst1: list, lst2: list) -> list:\n",
    "    merged_lst = []\n",
    "    i, j = 0, 0\n",
    "    while i < len(lst1) and j < len(lst2):\n",
    "        if lst1[i] <= lst2[j]:\n",
    "            merged_lst.append(lst1[i])\n",
    "            i += 1\n",
    "        else:\n",
    "            merged_lst.append(lst2[j])\n",
    "            j += 1\n",
    "    # if list 2 exhause before list 1\n",
    "    while i < len(lst1): \n",
    "        merged_lst.append(lst1[i])\n",
    "        i += 1\n",
    "    # if list 1 exhause before list 2\n",
    "    while j < len(lst2):\n",
    "        merged_lst.append(lst2[j])\n",
    "        j += 1\n",
    "    return merged_lst\n",
    "\n",
    "def main():\n",
    "    lst1 = [1, 2, 4]\n",
    "    lst2 = [3, 5, 6]\n",
    "    print(merge_sorted_list(lst1, lst2))\n",
    "    \n",
    "if __name__ == \"__main__\":\n",
    "    main()"
   ]
  },
  {
   "cell_type": "code",
   "execution_count": 4,
   "metadata": {},
   "outputs": [
    {
     "name": "stdout",
     "output_type": "stream",
     "text": [
      "[1, 2, 3, 4, 5, 6]\n"
     ]
    }
   ],
   "source": [
    "from heapq import merge\n",
    "\n",
    "def merge_sorted_list(lst1: list, lst2: list) -> list:\n",
    "    merged_list = list(merge(lst1, lst2))\n",
    "    return merged_list\n",
    "\n",
    "def main():\n",
    "    lst1 = [1, 2, 4]\n",
    "    lst2 = [3, 5, 6]\n",
    "    print(merge_sorted_list(lst1, lst2))\n",
    "\n",
    "if __name__ == \"__main__\":\n",
    "    main()"
   ]
  },
  {
   "cell_type": "code",
   "execution_count": null,
   "metadata": {},
   "outputs": [],
   "source": []
  }
 ],
 "metadata": {
  "language_info": {
   "name": "python"
  }
 },
 "nbformat": 4,
 "nbformat_minor": 2
}
