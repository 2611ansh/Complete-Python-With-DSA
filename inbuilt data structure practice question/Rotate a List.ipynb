{
 "cells": [
  {
   "cell_type": "markdown",
   "metadata": {},
   "source": [
    "## Rotate a List\n",
    "\n",
    "Write a function `rotate_list(lst, positions)` that rotates a list of integers `lst` to the right by `positions` positions. For example, rotating `[1, 2, 3, 4, 5]` by 2 positions should result in `[4, 5, 1, 2, 3]`.\n",
    "\n",
    "### Function Signature:\n",
    "```python\n",
    "def rotate_list(lst, positions):\n",
    "    # Your code here\n",
    "```\n",
    "\n",
    "### Input:\n",
    "- `lst`: A list of integers.\n",
    "- `positions`: An integer representing the number of positions to rotate to the right.\n",
    "\n",
    "### Output:\n",
    "- Return the rotated list.\n",
    "\n",
    "### Example:\n",
    "```python\n",
    ">>> rotate_list([1, 2, 3, 4, 5], 2)\n",
    "[4, 5, 1, 2, 3]\n",
    "\n",
    ">>> rotate_list([7, 8, 9, 10, 11], 3)\n",
    "[9, 10, 11, 7, 8]\n",
    "\n",
    ">>> rotate_list([3, 1, 4, 1, 5, 9], 4)\n",
    "[1, 5, 9, 3, 1, 4]\n",
    "```\n",
    "\n",
    "### Notes:\n",
    "- The `positions` parameter can be zero or greater than the length of the list `lst`.\n",
    "- Ensure the function handles edge cases like empty lists or lists with only one element appropriately."
   ]
  },
  {
   "cell_type": "code",
   "execution_count": 4,
   "metadata": {},
   "outputs": [
    {
     "name": "stdout",
     "output_type": "stream",
     "text": [
      "[4, 5, 1, 2, 3]\n"
     ]
    }
   ],
   "source": [
    "def rotate_list(lst: list, n: int) -> list:\n",
    "    for i in range(n):\n",
    "        x = lst.pop()\n",
    "        lst.insert(0,x)\n",
    "    return lst\n",
    "    \n",
    "def main():\n",
    "    lst = [1,2,3,4,5]\n",
    "    n = 7\n",
    "    print(rotate_list(lst, n))\n",
    "    \n",
    "if __name__ == \"__main__\":\n",
    "    main()"
   ]
  },
  {
   "cell_type": "code",
   "execution_count": 3,
   "metadata": {},
   "outputs": [
    {
     "name": "stdout",
     "output_type": "stream",
     "text": [
      "[5, 1, 2, 3, 4]\n"
     ]
    }
   ],
   "source": [
    "def rotate_list(lst: list, n: int) -> list:\n",
    "    n = n%len(lst)\n",
    "    return lst[-n:] + lst[:-n]\n",
    "    \n",
    "def main():\n",
    "    lst = [1,2,3,4,5]\n",
    "    n = 6\n",
    "    print(rotate_list(lst, n))\n",
    "    \n",
    "if __name__ == \"__main__\":\n",
    "    main()"
   ]
  },
  {
   "cell_type": "code",
   "execution_count": null,
   "metadata": {},
   "outputs": [],
   "source": []
  }
 ],
 "metadata": {
  "language_info": {
   "name": "python"
  }
 },
 "nbformat": 4,
 "nbformat_minor": 2
}
