{
 "cells": [
  {
   "cell_type": "markdown",
   "metadata": {},
   "source": [
    "## Problem Statement: Merge Dictionaries with Common Keys\n",
    "\n",
    "Write a program that merges two dictionaries based on common keys. If a key exists in both dictionaries, the values for that key should be added together. If a key exists in only one dictionary, the value for that key should remain unchanged.\n",
    "\n",
    "### Example:\n",
    "**Input:**\n",
    "\n",
    "```python\n",
    "dict1 = {'a': 5, 'b': 3, 'c': 2}\n",
    "dict2 = {'a': 7, 'b': 1, 'd': 4}\n",
    "\n",
    "{'a': 12, 'b': 4, 'c': 2, 'd': 4}\n"
   ]
  },
  {
   "cell_type": "code",
   "execution_count": 1,
   "metadata": {},
   "outputs": [
    {
     "name": "stdout",
     "output_type": "stream",
     "text": [
      "{'a': 12, 'b': 4, 'c': 2, 'd': 4}\n"
     ]
    }
   ],
   "source": [
    "def merged_dict(dict1: dict, dict2: dict) -> dict:\n",
    "    merged_dict = dict1.copy()\n",
    "    for i in dict2.keys():\n",
    "        if i in merged_dict.keys():\n",
    "            merged_dict[i] += dict2[i]\n",
    "        else:\n",
    "            merged_dict[i] = dict2[i]\n",
    "    return merged_dict\n",
    "    \n",
    "def main():\n",
    "    dict1 = {'a': 5, 'b': 3, 'c': 2}\n",
    "    dict2 = {'a': 7, 'b': 1, 'd': 4}\n",
    "    print(merged_dict(dict1, dict2))\n",
    "\n",
    "if __name__ == \"__main__\":\n",
    "    main()"
   ]
  }
 ],
 "metadata": {
  "language_info": {
   "name": "python"
  }
 },
 "nbformat": 4,
 "nbformat_minor": 2
}
