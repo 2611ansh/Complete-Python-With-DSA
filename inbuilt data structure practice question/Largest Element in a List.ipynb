{
 "cells": [
  {
   "cell_type": "markdown",
   "metadata": {},
   "source": [
    "---\n",
    "\n",
    "**Problem: Find the Largest Element in a List**\n",
    "\n",
    "Write a function `find_largest_element` that takes in a list of integers as input and returns the largest element in the list.\n",
    "\n",
    "**Example:**\n",
    "\n",
    "Input:\n",
    "```\n",
    "[1, 4, 2, 7, 5]\n",
    "```\n",
    "\n",
    "Output:\n",
    "```\n",
    "7\n",
    "```\n",
    "\n",
    "Input:\n",
    "```\n",
    "[-1, -5, -2, -7]\n",
    "```\n",
    "\n",
    "Output:\n",
    "```\n",
    "-1\n",
    "```\n",
    "\n",
    "**Constraints:**\n",
    "- The list will not be empty.\n",
    "- All elements in the list are integers.\n",
    "\n",
    "---"
   ]
  },
  {
   "cell_type": "code",
   "execution_count": 1,
   "metadata": {},
   "outputs": [
    {
     "name": "stdout",
     "output_type": "stream",
     "text": [
      "9\n"
     ]
    }
   ],
   "source": [
    "def find_largest_element(lst: list) -> int:\n",
    "    max = 0\n",
    "    for i in lst:\n",
    "        if i > max:\n",
    "            max = i\n",
    "    return max\n",
    "\n",
    "def main():\n",
    "    lst = [1, 2, 3, 4, 5, 6, 7, 8, 9]\n",
    "    print(find_largest_element(lst))\n",
    "\n",
    "if __name__ == \"__main__\":\n",
    "    main()"
   ]
  },
  {
   "cell_type": "code",
   "execution_count": 2,
   "metadata": {},
   "outputs": [
    {
     "name": "stdout",
     "output_type": "stream",
     "text": [
      "9\n"
     ]
    }
   ],
   "source": [
    "def find_largest_element(lst: list) -> int:\n",
    "    return max(lst)\n",
    "\n",
    "def main():\n",
    "    lst = [1, 2, 3, 4, 5, 6, 7, 8, 9]\n",
    "    print(find_largest_element(lst))\n",
    "\n",
    "if __name__ == \"__main__\":\n",
    "    main()"
   ]
  }
 ],
 "metadata": {
  "language_info": {
   "name": "python"
  }
 },
 "nbformat": 4,
 "nbformat_minor": 2
}
