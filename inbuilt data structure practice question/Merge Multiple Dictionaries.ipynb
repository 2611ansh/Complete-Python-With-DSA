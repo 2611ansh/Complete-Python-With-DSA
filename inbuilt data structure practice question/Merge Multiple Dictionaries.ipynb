{
 "cells": [
  {
   "cell_type": "markdown",
   "metadata": {},
   "source": [
    "Certainly! Here's how you can merge multiple dictionaries into a single dictionary in Python:\n",
    "\n",
    "---\n",
    "\n",
    "## Merge Multiple Dictionaries\n",
    "\n",
    "Write a function `merge_multiple_dicts(*dicts)` that merges multiple dictionaries into a single dictionary. If there are duplicate keys, the value from the last dictionary in the arguments list should overwrite the previous values.\n",
    "\n",
    "### Function Signature:\n",
    "```python\n",
    "def merge_multiple_dicts(*dicts):\n",
    "    # Your code here\n",
    "```\n",
    "\n",
    "### Input:\n",
    "- `*dicts`: Any number of dictionaries as arguments.\n",
    "\n",
    "### Output:\n",
    "- Return a single dictionary containing all key-value pairs from the input dictionaries.\n",
    "\n",
    "### Example:\n",
    "```python\n",
    ">>> merge_multiple_dicts({'a': 1, 'b': 2}, {'b': 3, 'c': 4}, {'d': 5})\n",
    "{'a': 1, 'b': 3, 'c': 4, 'd': 5}\n",
    "\n",
    ">>> merge_multiple_dicts({'name': 'Alice', 'age': 30}, {'city': 'Wonderland'}, {'age': 31})\n",
    "{'name': 'Alice', 'age': 31, 'city': 'Wonderland'}\n",
    "\n",
    ">>> merge_multiple_dicts({}, {'key1': 'value1'}, {'key2': 'value2'})\n",
    "{'key1': 'value1', 'key2': 'value2'}\n",
    "```\n",
    "\n",
    "### Notes:\n",
    "- The function should handle an arbitrary number of dictionaries.\n",
    "- If no dictionaries are provided (`merge_multiple_dicts()` with no arguments), return an empty dictionary `{}`.\n",
    "\n",
    "---\n",
    "\n",
    "This question emphasizes handling multiple dictionaries and ensuring that the function correctly merges them while respecting the order of precedence for duplicate keys."
   ]
  },
  {
   "cell_type": "code",
   "execution_count": 1,
   "metadata": {},
   "outputs": [
    {
     "name": "stdout",
     "output_type": "stream",
     "text": [
      "{'a': 1, 'b': 3, 'c': 4, 'd': 5}\n"
     ]
    }
   ],
   "source": [
    "def merge_dict(*dicts: dict) -> dict:\n",
    "    merged_dict = {}\n",
    "    for i in dicts:\n",
    "        merged_dict.update(i)\n",
    "    return merged_dict\n",
    "    \n",
    "def main():\n",
    "    dict1 = {'a': 1, 'b': 2}\n",
    "    dict2 = {'b': 3, 'c': 4}\n",
    "    dict3 = {'d': 5}\n",
    "    print(merge_dict(dict1, dict2, dict3))\n",
    "    \n",
    "if __name__ == \"__main__\":\n",
    "    main()"
   ]
  },
  {
   "cell_type": "code",
   "execution_count": 2,
   "metadata": {},
   "outputs": [
    {
     "name": "stdout",
     "output_type": "stream",
     "text": [
      "{'a': 1, 'b': 3, 'c': 4, 'd': 5}\n"
     ]
    }
   ],
   "source": [
    "def merge_dict(*dicts: dict) -> dict:\n",
    "    return {k: v for d in dicts for k, v in d.items()}\n",
    "\n",
    "def main():\n",
    "    dict1 = {'a': 1, 'b': 2}\n",
    "    dict2 = {'b': 3, 'c': 4}\n",
    "    dict3 = {'d': 5}\n",
    "    print(merge_dict(dict1, dict2, dict3))\n",
    "\n",
    "if __name__ == \"__main__\":\n",
    "    main()"
   ]
  },
  {
   "cell_type": "code",
   "execution_count": null,
   "metadata": {},
   "outputs": [],
   "source": []
  }
 ],
 "metadata": {
  "language_info": {
   "name": "python"
  }
 },
 "nbformat": 4,
 "nbformat_minor": 2
}
