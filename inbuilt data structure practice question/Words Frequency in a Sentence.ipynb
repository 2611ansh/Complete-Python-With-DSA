{
 "cells": [
  {
   "cell_type": "markdown",
   "metadata": {},
   "source": [
    "## Problem Statement: Words Frequency in a Sentence\n",
    "\n",
    "Write a program that takes a sentence as input and determines the frequency of each word in the sentence. The program should ignore case sensitivity, treat words with different cases as the same, and remove any punctuation. The result should display each word along with its frequency in the sentence, in a clear and organized format. Additionally, the program should handle different types of input gracefully, such as sentences with repeated words, multiple spaces, and punctuation marks.\n",
    "\n",
    "### Example:\n",
    "**Input:**  \n",
    "\"Hello world! Hello, universe.\"\n",
    "\n",
    "**Output:**  \n",
    "hello: 2  \n",
    "world: 1  \n",
    "universe: 1\n"
   ]
  },
  {
   "cell_type": "code",
   "execution_count": 1,
   "metadata": {},
   "outputs": [
    {
     "name": "stdout",
     "output_type": "stream",
     "text": [
      "{'Hello': 1, 'world!': 1, 'Hello,': 1, 'universe.': 1}\n"
     ]
    }
   ],
   "source": [
    "def word_count(string: str) -> dict:\n",
    "    word_count = {}\n",
    "    words = string.split()\n",
    "    for word in words:\n",
    "        if word in word_count:\n",
    "            word_count[word] += 1 \n",
    "        else:\n",
    "            word_count[word] = 1 \n",
    "    return word_count\n",
    "    \n",
    "def main():\n",
    "    string = \"Hello world! Hello, universe.\"\n",
    "    print(word_count(string))\n",
    "    \n",
    "if __name__ == \"__main__\":\n",
    "    main()"
   ]
  },
  {
   "cell_type": "code",
   "execution_count": 3,
   "metadata": {},
   "outputs": [
    {
     "name": "stdout",
     "output_type": "stream",
     "text": [
      "{'hello': 2, 'world': 1, 'universe': 1}\n"
     ]
    }
   ],
   "source": [
    "import re\n",
    "from collections import Counter\n",
    "\n",
    "def word_count(string: str) -> dict:\n",
    "    string = string.lower()\n",
    "    string = re.sub(r'[^\\w\\s]', \"\", string)\n",
    "    words = string.split()\n",
    "    count_word = Counter(words)\n",
    "    return dict(count_word)\n",
    "    \n",
    "def main():\n",
    "    string = \"Hello world! Hello, universe.\"\n",
    "    print(word_count(string))\n",
    "    \n",
    "if __name__ == \"__main__\":\n",
    "    main()"
   ]
  },
  {
   "cell_type": "code",
   "execution_count": null,
   "metadata": {},
   "outputs": [],
   "source": []
  }
 ],
 "metadata": {
  "language_info": {
   "name": "python"
  }
 },
 "nbformat": 4,
 "nbformat_minor": 2
}
