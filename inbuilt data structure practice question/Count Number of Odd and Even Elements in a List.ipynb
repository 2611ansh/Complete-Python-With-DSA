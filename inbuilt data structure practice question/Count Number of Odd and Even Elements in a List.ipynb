{
 "cells": [
  {
   "cell_type": "markdown",
   "metadata": {},
   "source": [
    "**Problem: Count Number of Odd and Even Elements in a List**\n",
    "\n",
    "Write a function `count_odd_even` that takes in a list of integers and returns a tuple containing two integers:\n",
    "- The first integer represents the count of odd numbers in the list.\n",
    "- The second integer represents the count of even numbers in the list.\n",
    "\n",
    "**Example:**\n",
    "\n",
    "Input:\n",
    "```\n",
    "[1, 2, 3, 4, 5]\n",
    "```\n",
    "\n",
    "Output:\n",
    "```\n",
    "(3, 2)\n",
    "```\n",
    "\n",
    "Input:\n",
    "```\n",
    "[2, 4, 6, 8]\n",
    "```\n",
    "\n",
    "Output:\n",
    "```\n",
    "(0, 4)\n",
    "```\n",
    "\n",
    "**Constraints:**\n",
    "- The function should handle lists of integers of any length.\n",
    "- The function should return a tuple with two integers representing counts of odd and even numbers respectively."
   ]
  },
  {
   "cell_type": "code",
   "execution_count": 1,
   "metadata": {},
   "outputs": [
    {
     "name": "stdout",
     "output_type": "stream",
     "text": [
      "(3, 2)\n"
     ]
    }
   ],
   "source": [
    "def count_odd_even(lst: list) -> tuple:\n",
    "    odd, even = 0, 0\n",
    "    for i in lst:\n",
    "        if i%2 == 0:\n",
    "            even += 1\n",
    "        else:\n",
    "            odd += 1\n",
    "    return (odd, even)\n",
    "    \n",
    "def main():\n",
    "    lst = [1,2,3,4,5]\n",
    "    print(count_odd_even(lst))\n",
    "    \n",
    "if __name__ == \"__main__\":\n",
    "    main()"
   ]
  },
  {
   "cell_type": "code",
   "execution_count": 3,
   "metadata": {},
   "outputs": [
    {
     "name": "stdout",
     "output_type": "stream",
     "text": [
      "(3, 2)\n"
     ]
    }
   ],
   "source": [
    "def count_odd_even(lst: list) -> tuple:\n",
    "    odd = len([i for i in lst if i%2 != 0])\n",
    "    even = len([i for i in lst if i%2 == 0])\n",
    "    return (odd, even)\n",
    "\n",
    "def main():\n",
    "    lst = [1,2,3,4,5]\n",
    "    print(count_odd_even(lst))\n",
    "\n",
    "if __name__ == \"__main__\":\n",
    "    main()"
   ]
  },
  {
   "cell_type": "code",
   "execution_count": null,
   "metadata": {},
   "outputs": [],
   "source": []
  }
 ],
 "metadata": {
  "language_info": {
   "name": "python"
  }
 },
 "nbformat": 4,
 "nbformat_minor": 2
}
