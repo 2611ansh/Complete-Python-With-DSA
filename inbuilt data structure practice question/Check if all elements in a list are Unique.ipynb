{
 "cells": [
  {
   "cell_type": "markdown",
   "metadata": {},
   "source": [
    "**Problem: Check if all elements in a list are Unique**\n",
    "\n",
    "Write a function `are_elements_unique` that takes in a list of integers and returns `True` if all elements in the list are unique (no duplicates), and `False` otherwise.\n",
    "\n",
    "**Example:**\n",
    "\n",
    "Input:\n",
    "```\n",
    "[1, 2, 3, 4, 5]\n",
    "```\n",
    "\n",
    "Output:\n",
    "```\n",
    "True\n",
    "```\n",
    "\n",
    "Input:\n",
    "```\n",
    "[1, 2, 3, 2, 4, 1, 5]\n",
    "```\n",
    "\n",
    "Output:\n",
    "```\n",
    "False\n",
    "```\n",
    "\n",
    "**Constraints:**\n",
    "- The input list may contain duplicates.\n",
    "- The function should handle lists of integers of any length.\n",
    "\n",
    "---\n",
    "\n",
    "Implement the `are_elements_unique` function in your preferred programming language to solve this problem. Let me know if you have any questions or if you need further clarification!"
   ]
  },
  {
   "cell_type": "code",
   "execution_count": 1,
   "metadata": {},
   "outputs": [
    {
     "name": "stdout",
     "output_type": "stream",
     "text": [
      "False\n"
     ]
    }
   ],
   "source": [
    "def all_unique(lst: list) -> bool:\n",
    "    unique = []\n",
    "    for i in lst:\n",
    "        if i in unique:\n",
    "            return False\n",
    "        else:\n",
    "            unique.append(i)\n",
    "    return True\n",
    "    \n",
    "def main():\n",
    "    lst = [1,2,3,4,5,4,3,2,1]\n",
    "    print(all_unique(lst))\n",
    "\n",
    "if __name__ == \"__main__\":\n",
    "    main()"
   ]
  },
  {
   "cell_type": "code",
   "execution_count": 2,
   "metadata": {},
   "outputs": [
    {
     "name": "stdout",
     "output_type": "stream",
     "text": [
      "True\n"
     ]
    }
   ],
   "source": [
    "def all_unique(lst: list) -> bool:\n",
    "    if list(set(lst)) == lst:\n",
    "        return True\n",
    "    return False\n",
    "    \n",
    "def main():\n",
    "    lst = [1,2,3,4,5]\n",
    "    print(all_unique(lst))\n",
    "\n",
    "if __name__ == \"__main__\":\n",
    "    main()"
   ]
  },
  {
   "cell_type": "code",
   "execution_count": 3,
   "metadata": {},
   "outputs": [
    {
     "name": "stdout",
     "output_type": "stream",
     "text": [
      "True\n"
     ]
    }
   ],
   "source": [
    "def all_unique(lst: list) -> bool:\n",
    "    return len(lst) == len(set(lst))\n",
    "\n",
    "def main():\n",
    "    lst = [1,2,3,4,5]\n",
    "    print(all_unique(lst))\n",
    "\n",
    "if __name__ == \"__main__\":\n",
    "    main()"
   ]
  }
 ],
 "metadata": {
  "language_info": {
   "name": "python"
  }
 },
 "nbformat": 4,
 "nbformat_minor": 2
}
