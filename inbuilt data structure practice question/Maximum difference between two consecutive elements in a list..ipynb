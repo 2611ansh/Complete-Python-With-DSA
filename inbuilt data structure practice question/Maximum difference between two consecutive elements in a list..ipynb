{
 "cells": [
  {
   "cell_type": "markdown",
   "metadata": {},
   "source": [
    "**Problem: Maximum Difference Between Two Consecutive Elements in a List**\n",
    "\n",
    "Write a function `max_diff_consecutive` that takes in a list of integers and returns the maximum difference between any two consecutive elements in the list.\n",
    "\n",
    "**Example:**\n",
    "\n",
    "Input:\n",
    "```\n",
    "[1, 7, 5, 9, 2]\n",
    "```\n",
    "\n",
    "Output:\n",
    "```\n",
    "4\n",
    "```\n",
    "Explanation: The maximum difference between consecutive elements is between `5` and `9`.\n",
    "\n",
    "Input:\n",
    "```\n",
    "[3, 3, 3, 3, 3]\n",
    "```\n",
    "\n",
    "Output:\n",
    "```\n",
    "0\n",
    "```\n",
    "Explanation: All elements are the same, so the maximum difference between consecutive elements is `0`.\n",
    "\n",
    "**Constraints:**\n",
    "- The input list will have at least two elements.\n",
    "- The function should handle lists of integers of any length.\n",
    "\n",
    "---\n",
    "\n",
    "Implement the `max_diff_consecutive` function in your preferred programming language to solve this problem. Let me know if you need any further assistance!"
   ]
  },
  {
   "cell_type": "code",
   "execution_count": 1,
   "metadata": {},
   "outputs": [
    {
     "name": "stdout",
     "output_type": "stream",
     "text": [
      "8\n"
     ]
    }
   ],
   "source": [
    "def max_diff_betw_consecutive_elements(lst: list) -> int:\n",
    "    max_diff = 0\n",
    "    for i in range(len(lst)-1):\n",
    "        diff = lst[i+1] - lst[i]\n",
    "        if max_diff < diff:\n",
    "            max_diff = diff\n",
    "    return max_diff\n",
    "    \n",
    "def main():\n",
    "    lst = [1,2,4,8,16]\n",
    "    print(max_diff_betw_consecutive_elements(lst))\n",
    "    \n",
    "if __name__ == \"__main__\":\n",
    "    main()"
   ]
  },
  {
   "cell_type": "code",
   "execution_count": 2,
   "metadata": {},
   "outputs": [
    {
     "name": "stdout",
     "output_type": "stream",
     "text": [
      "8\n"
     ]
    }
   ],
   "source": [
    "def max_diff_betw_consecutive_elements(lst: list) -> int:\n",
    "    return max([lst[i+1] - lst[i] for i in range(len(lst)-1)])\n",
    "\n",
    "def main():\n",
    "    lst = [1,2,4,8,16]\n",
    "    print(max_diff_betw_consecutive_elements(lst))\n",
    "\n",
    "if __name__ == \"__main__\":\n",
    "    main()"
   ]
  },
  {
   "cell_type": "code",
   "execution_count": null,
   "metadata": {},
   "outputs": [],
   "source": []
  }
 ],
 "metadata": {
  "language_info": {
   "name": "python"
  }
 },
 "nbformat": 4,
 "nbformat_minor": 2
}
