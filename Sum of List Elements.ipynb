{
 "cells": [
  {
   "cell_type": "markdown",
   "metadata": {},
   "source": [
    "---\n",
    "\n",
    "**Problem: Calculate the Sum of List Elements**\n",
    "\n",
    "Write a function `sum_of_list_elements` that takes in a list of integers as input and returns the sum of all the elements in the list.\n",
    "\n",
    "**Example:**\n",
    "\n",
    "Input:\n",
    "```\n",
    "[1, 2, 3, 4, 5]\n",
    "```\n",
    "\n",
    "Output:\n",
    "```\n",
    "15\n",
    "```\n",
    "\n",
    "Input:\n",
    "```\n",
    "[-1, 0, 1]\n",
    "```\n",
    "\n",
    "Output:\n",
    "```\n",
    "0\n",
    "```\n",
    "\n",
    "**Constraints:**\n",
    "- The list may be empty.\n",
    "- The list can contain both positive and negative integers.\n",
    "- The function should handle large lists efficiently.\n",
    "\n",
    "---"
   ]
  },
  {
   "cell_type": "code",
   "execution_count": 5,
   "metadata": {},
   "outputs": [
    {
     "name": "stdout",
     "output_type": "stream",
     "text": [
      "15\n"
     ]
    }
   ],
   "source": [
    "def sum_of_list_elements(lst: list) -> int:\n",
    "    sum = 0\n",
    "    for i in lst:\n",
    "        sum += i\n",
    "    return sum\n",
    "\n",
    "def main():\n",
    "    lst = [1, 2, 3, 4, 5]\n",
    "    print(sum_of_list_elements(lst))\n",
    "\n",
    "if __name__ == \"__main__\":\n",
    "    main()"
   ]
  },
  {
   "cell_type": "code",
   "execution_count": 1,
   "metadata": {},
   "outputs": [
    {
     "name": "stdout",
     "output_type": "stream",
     "text": [
      "15\n"
     ]
    }
   ],
   "source": [
    "def sum_of_list_elements(lst: list) -> int:\n",
    "    return sum(lst)\n",
    "\n",
    "def main():\n",
    "    lst = [1, 2, 3, 4, 5]\n",
    "    print(sum_of_list_elements(lst))\n",
    "\n",
    "if __name__ == \"__main__\":\n",
    "    main()"
   ]
  }
 ],
 "metadata": {
  "language_info": {
   "name": "python"
  }
 },
 "nbformat": 4,
 "nbformat_minor": 2
}
