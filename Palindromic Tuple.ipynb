{
 "cells": [
  {
   "cell_type": "markdown",
   "metadata": {},
   "source": [
    "## Problem Statement: Palindromic Tuple\n",
    "\n",
    "Write a program that takes a list of strings as input and identifies all possible pairs (tuples) of distinct strings such that the concatenation of the two forms a palindrome. A palindrome is a string that reads the same forward and backward.\n",
    "\n",
    "The program should return a list of tuples, where each tuple consists of two distinct strings that form a palindrome when concatenated.\n",
    "\n",
    "### Example:\n",
    "**Input:**\n",
    "```python\n",
    "[\"race\", \"car\", \"abc\", \"cba\", \"rad\", \"dar\"]\n",
    "\n",
    "Output:\n",
    "[('race', 'car'), ('abc', 'cba'), ('rad', 'dar'), ('dar', 'rad')]\n"
   ]
  },
  {
   "cell_type": "code",
   "execution_count": 5,
   "metadata": {},
   "outputs": [
    {
     "name": "stdout",
     "output_type": "stream",
     "text": [
      "(['race', 'car'], ['abc', 'cba'], ['rad', 'dar'])\n"
     ]
    }
   ],
   "source": [
    "def palindromic_tuple(lst: list) -> tuple:\n",
    "    palindrome = []\n",
    "    for i in range(len(lst)):\n",
    "        for j in range(i+1,len(lst)):\n",
    "            word = lst[i]+lst[j]\n",
    "            if word == word[::-1]:\n",
    "                palindrome.append([lst[i],lst[j]])\n",
    "    return tuple(palindrome)\n",
    "    \n",
    "def main():\n",
    "    lst = [\"race\", \"car\", \"abc\", \"cba\", \"rad\", \"dar\"]\n",
    "    print(palindromic_tuple(lst))\n",
    "    \n",
    "if __name__ == \"__main__\":\n",
    "    main()"
   ]
  },
  {
   "cell_type": "code",
   "execution_count": 2,
   "metadata": {},
   "outputs": [
    {
     "name": "stdout",
     "output_type": "stream",
     "text": [
      "(['race', 'car'], ['abc', 'cba'], ['rad', 'dar'])\n"
     ]
    }
   ],
   "source": []
  },
  {
   "cell_type": "code",
   "execution_count": null,
   "metadata": {},
   "outputs": [],
   "source": []
  }
 ],
 "metadata": {
  "language_info": {
   "name": "python"
  }
 },
 "nbformat": 4,
 "nbformat_minor": 2
}
