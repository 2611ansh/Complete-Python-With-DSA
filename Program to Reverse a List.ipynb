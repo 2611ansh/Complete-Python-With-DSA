{
 "cells": [
  {
   "cell_type": "markdown",
   "metadata": {},
   "source": [
    "Certainly! Here's a programming problem to reverse a list:\n",
    "\n",
    "---\n",
    "\n",
    "**Problem: Reverse a List**\n",
    "\n",
    "Write a function `reverse_list` that takes in a list of integers and returns a new list that is the reverse of the input list.\n",
    "\n",
    "**Example:**\n",
    "\n",
    "Input:\n",
    "```\n",
    "[1, 2, 3, 4, 5]\n",
    "```\n",
    "\n",
    "Output:\n",
    "```\n",
    "[5, 4, 3, 2, 1]\n",
    "```\n",
    "\n",
    "Input:\n",
    "```\n",
    "[3, 7, 1, 9]\n",
    "```\n",
    "\n",
    "Output:\n",
    "```\n",
    "[9, 1, 7, 3]\n",
    "```\n",
    "\n",
    "**Constraints:**\n",
    "- The function should return a new list (not modify the original list).\n",
    "- The input list may be empty or contain any number of integers.\n",
    "\n",
    "---\n",
    "\n",
    "Implement the `reverse_list` function in your preferred programming language to solve this problem. Let me know if you need any further assistance!"
   ]
  },
  {
   "cell_type": "code",
   "execution_count": null,
   "metadata": {},
   "outputs": [],
   "source": [
    "def reverse_lst(lst: list) -> list:\n",
    "    return lst[::-1]\n",
    "\n",
    "def main():\n",
    "    lst = [1,2,3,4,5]\n",
    "    print(reverse_lst(lst))\n",
    "\n",
    "if __name__ == \"__main__\":\n",
    "    main()"
   ]
  },
  {
   "cell_type": "code",
   "execution_count": null,
   "metadata": {},
   "outputs": [],
   "source": []
  }
 ],
 "metadata": {
  "language_info": {
   "name": "python"
  }
 },
 "nbformat": 4,
 "nbformat_minor": 2
}
